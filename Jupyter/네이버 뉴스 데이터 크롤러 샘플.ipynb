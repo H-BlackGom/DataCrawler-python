{
 "cells": [
  {
   "cell_type": "markdown",
   "metadata": {},
   "source": [
    "## 기업별 비형정 데이터 적재\n",
    "### 기업별 네이버 뉴스 크롤링\n",
    "* Kospi200 기업별 뉴스 크롤링.\n",
    "    * 크롤링 기간: 약 2주\n",
    "    * 추후 데이터 중복이 되지 않도록 범위 선정에 유의\n",
    "* 뉴스 본문, 제목, 형태소 분석 결과를 news collection에 적재. (기업명, 기업코드 추가)\n",
    "* selnuim, 사용\n",
    "* chromedriver version 및 설치 경로 확인"
   ]
  },
  {
   "cell_type": "code",
   "execution_count": 1,
   "metadata": {},
   "outputs": [
    {
     "name": "stdout",
     "output_type": "stream",
     "text": [
      "Requirement already satisfied: pymongo in /Users/hyoungrolee/anaconda3/envs/cs/lib/python3.6/site-packages (3.10.1)\n",
      "Requirement already satisfied: selenium in /Users/hyoungrolee/anaconda3/envs/cs/lib/python3.6/site-packages (3.141.0)\n",
      "Requirement already satisfied: urllib3 in /Users/hyoungrolee/anaconda3/envs/cs/lib/python3.6/site-packages (from selenium) (1.25.8)\n",
      "Requirement already satisfied: beautifulsoup4 in /Users/hyoungrolee/anaconda3/envs/cs/lib/python3.6/site-packages (4.9.0)\n",
      "Requirement already satisfied: soupsieve>1.2 in /Users/hyoungrolee/anaconda3/envs/cs/lib/python3.6/site-packages (from beautifulsoup4) (2.0)\n"
     ]
    }
   ],
   "source": [
    "!pip install pymongo\n",
    "!pip install selenium\n",
    "!pip install beautifulsoup4"
   ]
  },
  {
   "cell_type": "code",
   "execution_count": 6,
   "metadata": {},
   "outputs": [],
   "source": [
    "import re\n",
    "import requests\n",
    "import pandas as pd\n",
    "from bs4 import BeautifulSoup\n",
    "from pymongo import MongoClient\n",
    "from selenium import webdriver\n",
    "from selenium.webdriver.chrome.options import Options\n",
    "from selenium.webdriver.support.wait import WebDriverWait"
   ]
  },
  {
   "cell_type": "code",
   "execution_count": 3,
   "metadata": {},
   "outputs": [
    {
     "name": "stderr",
     "output_type": "stream",
     "text": [
      "/Users/hyoungrolee/anaconda3/envs/cs/lib/python3.6/site-packages/ipykernel_launcher.py:10: DeprecationWarning: use options instead of chrome_options\n",
      "  # Remove the CWD from sys.path while we load stuff.\n"
     ]
    }
   ],
   "source": [
    "# chrome driver setting.\n",
    "driver_path = '../Driver/MacOS/chromedriver'\n",
    "\n",
    "options = webdriver.ChromeOptions()\n",
    "options.add_argument('headless')\n",
    "options.add_argument('window-size=1920x1080')\n",
    "options.add_argument(\"disable-gpu\")\n",
    "options.add_argument(\"user-agent=Mozilla/5.0 (Macintosh; Intel Mac OS X 10_14_4) AppleWebKit/537.36 (KHTML, like Gecko) Chrome/81.0.4044.122 Safari/537.36\")\n",
    "\n",
    "driver = webdriver.Chrome(driver_path, chrome_options=options)\n",
    "driver.implicitly_wait(3)"
   ]
  },
  {
   "cell_type": "code",
   "execution_count": 7,
   "metadata": {
    "scrolled": true
   },
   "outputs": [
    {
     "data": {
      "text/html": [
       "<div>\n",
       "<style scoped>\n",
       "    .dataframe tbody tr th:only-of-type {\n",
       "        vertical-align: middle;\n",
       "    }\n",
       "\n",
       "    .dataframe tbody tr th {\n",
       "        vertical-align: top;\n",
       "    }\n",
       "\n",
       "    .dataframe thead th {\n",
       "        text-align: right;\n",
       "    }\n",
       "</style>\n",
       "<table border=\"1\" class=\"dataframe\">\n",
       "  <thead>\n",
       "    <tr style=\"text-align: right;\">\n",
       "      <th></th>\n",
       "      <th>_id</th>\n",
       "      <th>company</th>\n",
       "      <th>code</th>\n",
       "      <th>rank</th>\n",
       "      <th>business_code</th>\n",
       "      <th>business</th>\n",
       "    </tr>\n",
       "  </thead>\n",
       "  <tbody>\n",
       "    <tr>\n",
       "      <th>0</th>\n",
       "      <td>5f31fffb42a6826a9bc95d94</td>\n",
       "      <td>포스코케미칼</td>\n",
       "      <td>003670.KS</td>\n",
       "      <td>1</td>\n",
       "      <td>32302</td>\n",
       "      <td>내화, 비내화 요업제품 제조업</td>\n",
       "    </tr>\n",
       "    <tr>\n",
       "      <th>1</th>\n",
       "      <td>5f31fffb42a6826a9bc95d95</td>\n",
       "      <td>더블유게임즈</td>\n",
       "      <td>192080.KS</td>\n",
       "      <td>2</td>\n",
       "      <td>105802</td>\n",
       "      <td>소프트웨어 개발 및 공급업</td>\n",
       "    </tr>\n",
       "    <tr>\n",
       "      <th>2</th>\n",
       "      <td>5f31fffb42a6826a9bc95d96</td>\n",
       "      <td>우리금융지주</td>\n",
       "      <td>316140.KS</td>\n",
       "      <td>3</td>\n",
       "      <td>116409</td>\n",
       "      <td>기타 금융업</td>\n",
       "    </tr>\n",
       "    <tr>\n",
       "      <th>3</th>\n",
       "      <td>5f31fffb42a6826a9bc95d97</td>\n",
       "      <td>HDC현대산업개발</td>\n",
       "      <td>294870.KS</td>\n",
       "      <td>4</td>\n",
       "      <td>64101</td>\n",
       "      <td>건물 건설업</td>\n",
       "    </tr>\n",
       "    <tr>\n",
       "      <th>4</th>\n",
       "      <td>5f31fffb42a6826a9bc95d98</td>\n",
       "      <td>애경산업</td>\n",
       "      <td>018250.KS</td>\n",
       "      <td>5</td>\n",
       "      <td>32004</td>\n",
       "      <td>기타 화학제품 제조업</td>\n",
       "    </tr>\n",
       "    <tr>\n",
       "      <th>...</th>\n",
       "      <td>...</td>\n",
       "      <td>...</td>\n",
       "      <td>...</td>\n",
       "      <td>...</td>\n",
       "      <td>...</td>\n",
       "      <td>...</td>\n",
       "    </tr>\n",
       "    <tr>\n",
       "      <th>195</th>\n",
       "      <td>5f31fffb42a6826a9bc95e57</td>\n",
       "      <td>삼양홀딩스</td>\n",
       "      <td>000070.KS</td>\n",
       "      <td>196</td>\n",
       "      <td>116409</td>\n",
       "      <td>기타 금융업</td>\n",
       "    </tr>\n",
       "    <tr>\n",
       "      <th>196</th>\n",
       "      <td>5f31fffb42a6826a9bc95e58</td>\n",
       "      <td>한국테크놀로지그룹</td>\n",
       "      <td>000240.KS</td>\n",
       "      <td>197</td>\n",
       "      <td>116409</td>\n",
       "      <td>기타 금융업</td>\n",
       "    </tr>\n",
       "    <tr>\n",
       "      <th>197</th>\n",
       "      <td>5f31fffb42a6826a9bc95e59</td>\n",
       "      <td>대한항공</td>\n",
       "      <td>003490.KS</td>\n",
       "      <td>198</td>\n",
       "      <td>85101</td>\n",
       "      <td>항공 여객 운송업</td>\n",
       "    </tr>\n",
       "    <tr>\n",
       "      <th>198</th>\n",
       "      <td>5f31fffb42a6826a9bc95e5a</td>\n",
       "      <td>유한양행</td>\n",
       "      <td>000100.KS</td>\n",
       "      <td>199</td>\n",
       "      <td>32102</td>\n",
       "      <td>의약품 제조업</td>\n",
       "    </tr>\n",
       "    <tr>\n",
       "      <th>199</th>\n",
       "      <td>5f31fffb42a6826a9bc95e5b</td>\n",
       "      <td>CJ대한통운</td>\n",
       "      <td>000120.KS</td>\n",
       "      <td>200</td>\n",
       "      <td>84903</td>\n",
       "      <td>도로 화물 운송업</td>\n",
       "    </tr>\n",
       "  </tbody>\n",
       "</table>\n",
       "<p>200 rows × 6 columns</p>\n",
       "</div>"
      ],
      "text/plain": [
       "                          _id    company       code  rank  business_code  \\\n",
       "0    5f31fffb42a6826a9bc95d94     포스코케미칼  003670.KS     1          32302   \n",
       "1    5f31fffb42a6826a9bc95d95     더블유게임즈  192080.KS     2         105802   \n",
       "2    5f31fffb42a6826a9bc95d96     우리금융지주  316140.KS     3         116409   \n",
       "3    5f31fffb42a6826a9bc95d97  HDC현대산업개발  294870.KS     4          64101   \n",
       "4    5f31fffb42a6826a9bc95d98       애경산업  018250.KS     5          32004   \n",
       "..                        ...        ...        ...   ...            ...   \n",
       "195  5f31fffb42a6826a9bc95e57      삼양홀딩스  000070.KS   196         116409   \n",
       "196  5f31fffb42a6826a9bc95e58  한국테크놀로지그룹  000240.KS   197         116409   \n",
       "197  5f31fffb42a6826a9bc95e59       대한항공  003490.KS   198          85101   \n",
       "198  5f31fffb42a6826a9bc95e5a       유한양행  000100.KS   199          32102   \n",
       "199  5f31fffb42a6826a9bc95e5b     CJ대한통운  000120.KS   200          84903   \n",
       "\n",
       "             business  \n",
       "0    내화, 비내화 요업제품 제조업  \n",
       "1      소프트웨어 개발 및 공급업  \n",
       "2              기타 금융업  \n",
       "3              건물 건설업  \n",
       "4         기타 화학제품 제조업  \n",
       "..                ...  \n",
       "195            기타 금융업  \n",
       "196            기타 금융업  \n",
       "197         항공 여객 운송업  \n",
       "198           의약품 제조업  \n",
       "199         도로 화물 운송업  \n",
       "\n",
       "[200 rows x 6 columns]"
      ]
     },
     "execution_count": 7,
     "metadata": {},
     "output_type": "execute_result"
    }
   ],
   "source": [
    "conn = MongoClient('192.168.0.12', 27017)\n",
    "collection_category = conn['Changsung']['stock_category']\n",
    "df = pd.DataFrame(list(collection_category.find({})))\n",
    "df"
   ]
  },
  {
   "cell_type": "code",
   "execution_count": 9,
   "metadata": {
    "scrolled": true
   },
   "outputs": [
    {
     "data": {
      "text/plain": [
       "(200,\n",
       " array(['포스코케미칼', '더블유게임즈', '우리금융지주', 'HDC현대산업개발', '애경산업', '셀트리온', '쿠쿠홈시스',\n",
       "        'SK케미칼', 'BGF리테일', '카카오', '오리온', '넷마블', '현대중공업지주', '두산밥캣',\n",
       "        '삼성바이오로직스', '화승엔터프라이즈', '동서', 'LIG넥스원', '이노션', '삼성물산', '삼성에스디에스',\n",
       "        '만도', '쿠쿠홀딩스', 'BGF', '코스맥스', '종근당', '현대로템', '한진칼', '동아에스티',\n",
       "        '한국콜마', '한국타이어앤테크놀로지', 'GS리테일', '삼양사', '신세계인터내셔날', '한국항공우주',\n",
       "        '롯데하이마트', '이마트', 'BNK금융지주', '일진머티리얼즈', '현대위아', '휠라홀딩스', '현대홈쇼핑',\n",
       "        '한미약품', '한라홀딩스', '삼성생명', '한화생명', '코오롱인더', '락앤락', '한전기술', 'GKL',\n",
       "        'SK', '하이트진로', '영원무역', 'LG하우시스', '한세실업', 'NAVER', 'KB금융', '풍산',\n",
       "        'LG이노텍', 'LG유플러스', '아시아나항공', '한전KPS', 'CJ제일제당', '팬오션', 'SK이노베이션',\n",
       "        '삼성카드', '후성', 'LF', '아모레퍼시픽', '롯데관광개발', '롯데쇼핑', '현대글로비스', '하나금융지주',\n",
       "        '금호타이어', 'CJ CGV', '유니드', 'GS', 'LG디스플레이', '대교', '기업은행', '강원랜드',\n",
       "        '한국금융지주', '엔씨소프트', '현대백화점', '대웅제약', '휴켐스', '한샘', 'LG전자', 'S&T모티브',\n",
       "        '신한지주', '코웨이', 'LG생활건강', 'LG화학', '대우건설', '포스코인터내셔널', '대우조선해양',\n",
       "        '두산인프라코어', '동원F&B', '두산중공업', '한국가스공사', '케이티앤지', '한국조선해양', '대한유화',\n",
       "        '케이티', '제일기획', 'SKC', 'SK하이닉스', '삼성엔지니어링', 'HDC', '한온시스템', '한섬',\n",
       "        '현대엘리베이터', '에스원', '남해화학', 'HMM', '오뚜기', '엘에스일렉트릭', '동원시스템즈',\n",
       "        '삼성중공업', '메리츠증권', '롯데케미칼', '세아베스틸', '호텔신라', '고려아연', '한올바이오파마',\n",
       "        '태영건설', 'SK텔레콤', '현대모비스', '현대해상', '현대그린푸드', '한국전력공사', '녹십자',\n",
       "        '한솔케미칼', '보령제약', '부광약품', '한미사이언스', '포스코', '동국제강', '삼성증권', '금호석유화학',\n",
       "        '세방전지', 'S-Oil', '한화에어로스페이스', '현대제철', 'KG동부제철', '아이에스동서', '신세계',\n",
       "        'OCI', '현대건설', 'F&F', '현대미포조선', 'GS건설', '삼성SDI', '삼성전기', '빙그레',\n",
       "        '녹십자홀딩스', 'LS', 'SK네트웍스', '농심', 'SK디스커버리', '한화', 'JW중외제약', '영풍',\n",
       "        '고려제강', '넥센타이어', '롯데정밀화학', '대림산업', 'LG상사', '태광산업', '한일현대시멘트',\n",
       "        'DB하이텍', 'NH투자증권', '미래에셋대우', '삼성화재해상보험', '오리온홀딩스', '삼성전자',\n",
       "        '쌍용양회공업', 'SPC삼립', '일양약품', '현대자동차', '한화솔루션', '롯데지주', '기아자동차', '효성',\n",
       "        'CJ', '두산', 'DB손해보험', '영진약품', '케이씨씨', '롯데칠성음료', '롯데푸드', '아모레퍼시픽그룹',\n",
       "        '대상', 'LG', '동아쏘시오홀딩스', '삼양홀딩스', '한국테크놀로지그룹', '대한항공', '유한양행',\n",
       "        'CJ대한통운'], dtype=object))"
      ]
     },
     "execution_count": 9,
     "metadata": {},
     "output_type": "execute_result"
    }
   ],
   "source": [
    "query_keywords = df['company'].unique()\n",
    "s_date = '2020.06.01'\n",
    "e_date = '2020.06.15'\n",
    "s_from = s_date.replace(\".\",\"\")\n",
    "e_to = e_date.replace(\".\",\"\")\n",
    "len(query_keywords), query_keywords"
   ]
  },
  {
   "cell_type": "code",
   "execution_count": null,
   "metadata": {},
   "outputs": [],
   "source": [
    "conn = MongoClient('192.168.0.12', 27017)\n",
    "collection_news = conn['Changsung']['news']\n",
    "\n",
    "\n"
   ]
  }
 ],
 "metadata": {
  "kernelspec": {
   "display_name": "cs",
   "language": "python",
   "name": "cs"
  },
  "language_info": {
   "codemirror_mode": {
    "name": "ipython",
    "version": 3
   },
   "file_extension": ".py",
   "mimetype": "text/x-python",
   "name": "python",
   "nbconvert_exporter": "python",
   "pygments_lexer": "ipython3",
   "version": "3.6.10"
  }
 },
 "nbformat": 4,
 "nbformat_minor": 4
}
